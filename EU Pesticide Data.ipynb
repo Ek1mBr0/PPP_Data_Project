{
 "cells": [
  {
   "cell_type": "code",
   "execution_count": 110,
   "id": "1289be39",
   "metadata": {},
   "outputs": [],
   "source": [
    "import numpy as np\n",
    "import pandas as pd\n",
    "import matplotlib.pyplot as plt\n",
    "import seaborn as sns"
   ]
  },
  {
   "cell_type": "code",
   "execution_count": 28,
   "id": "eb57354d",
   "metadata": {},
   "outputs": [
    {
     "data": {
      "text/html": [
       "<div>\n",
       "<style scoped>\n",
       "    .dataframe tbody tr th:only-of-type {\n",
       "        vertical-align: middle;\n",
       "    }\n",
       "\n",
       "    .dataframe tbody tr th {\n",
       "        vertical-align: top;\n",
       "    }\n",
       "\n",
       "    .dataframe thead th {\n",
       "        text-align: right;\n",
       "    }\n",
       "</style>\n",
       "<table border=\"1\" class=\"dataframe\">\n",
       "  <thead>\n",
       "    <tr style=\"text-align: right;\">\n",
       "      <th></th>\n",
       "      <th>Active Substance ID</th>\n",
       "      <th>Substance</th>\n",
       "      <th>Category</th>\n",
       "      <th>Status under Reg. (EC) No 1107/2009</th>\n",
       "      <th>Date of approval</th>\n",
       "      <th>Expiration of approval</th>\n",
       "      <th>Legislation</th>\n",
       "      <th>Remark</th>\n",
       "      <th>RMS</th>\n",
       "      <th>Co-RMS</th>\n",
       "      <th>...</th>\n",
       "      <th>Source/Year</th>\n",
       "      <th>Remark</th>\n",
       "      <th>ARfD (mg/kg bw)</th>\n",
       "      <th>Source/Year.1</th>\n",
       "      <th>Remark.1</th>\n",
       "      <th>AOEL (mg/kg bw/d)</th>\n",
       "      <th>Source/Year.2</th>\n",
       "      <th>Remark.2</th>\n",
       "      <th>Classification (Reg. 1272/2008)</th>\n",
       "      <th>Authorised</th>\n",
       "    </tr>\n",
       "  </thead>\n",
       "  <tbody>\n",
       "    <tr>\n",
       "      <th>0</th>\n",
       "      <td>351</td>\n",
       "      <td>(4Z-9Z)-7,9-Dodecadien-1-ol</td>\n",
       "      <td>AT</td>\n",
       "      <td>Not approved</td>\n",
       "      <td>NaN</td>\n",
       "      <td>NaN</td>\n",
       "      <td>2004/129/EC</td>\n",
       "      <td>NaN</td>\n",
       "      <td>NaN</td>\n",
       "      <td>NaN</td>\n",
       "      <td>...</td>\n",
       "      <td>NaN</td>\n",
       "      <td>NaN</td>\n",
       "      <td>NaN</td>\n",
       "      <td>NaN</td>\n",
       "      <td>NaN</td>\n",
       "      <td>NaN</td>\n",
       "      <td>NaN</td>\n",
       "      <td>NaN</td>\n",
       "      <td>NaN</td>\n",
       "      <td>NaN</td>\n",
       "    </tr>\n",
       "    <tr>\n",
       "      <th>1</th>\n",
       "      <td>1329</td>\n",
       "      <td>(E)-10-Dodecen-1-yl acetate</td>\n",
       "      <td>AT</td>\n",
       "      <td>Not approved</td>\n",
       "      <td>NaN</td>\n",
       "      <td>NaN</td>\n",
       "      <td>2004/129/EC</td>\n",
       "      <td>NaN</td>\n",
       "      <td>NaN</td>\n",
       "      <td>NaN</td>\n",
       "      <td>...</td>\n",
       "      <td>NaN</td>\n",
       "      <td>NaN</td>\n",
       "      <td>NaN</td>\n",
       "      <td>NaN</td>\n",
       "      <td>NaN</td>\n",
       "      <td>NaN</td>\n",
       "      <td>NaN</td>\n",
       "      <td>NaN</td>\n",
       "      <td>NaN</td>\n",
       "      <td>NaN</td>\n",
       "    </tr>\n",
       "    <tr>\n",
       "      <th>2</th>\n",
       "      <td>357</td>\n",
       "      <td>(E)-11-Tetradecen-1-yl acetate</td>\n",
       "      <td>AT</td>\n",
       "      <td>Approved</td>\n",
       "      <td>01/09/2009</td>\n",
       "      <td>31/08/2021</td>\n",
       "      <td>2008/127, Reg. (EU) 2017/195, Reg. (EU) No 540...</td>\n",
       "      <td>Substance fulfilling criteria Annex VI Reg. 22...</td>\n",
       "      <td>AT</td>\n",
       "      <td>NaN</td>\n",
       "      <td>...</td>\n",
       "      <td>Dir 08/127</td>\n",
       "      <td>NaN</td>\n",
       "      <td>Not appl.</td>\n",
       "      <td>Dir 08/127</td>\n",
       "      <td>NaN</td>\n",
       "      <td>Not appl.</td>\n",
       "      <td>Dir 08/127</td>\n",
       "      <td>NaN</td>\n",
       "      <td>NaN</td>\n",
       "      <td>ES, IT, LU</td>\n",
       "    </tr>\n",
       "    <tr>\n",
       "      <th>3</th>\n",
       "      <td>358</td>\n",
       "      <td>(E)-2-Methyl-6-methylene-2,7-octadien-1-ol (my...</td>\n",
       "      <td>NaN</td>\n",
       "      <td>Not approved</td>\n",
       "      <td>NaN</td>\n",
       "      <td>NaN</td>\n",
       "      <td>2007/442</td>\n",
       "      <td>NaN</td>\n",
       "      <td>NaN</td>\n",
       "      <td>NaN</td>\n",
       "      <td>...</td>\n",
       "      <td>NaN</td>\n",
       "      <td>NaN</td>\n",
       "      <td>NaN</td>\n",
       "      <td>NaN</td>\n",
       "      <td>NaN</td>\n",
       "      <td>NaN</td>\n",
       "      <td>NaN</td>\n",
       "      <td>NaN</td>\n",
       "      <td>NaN</td>\n",
       "      <td>NaN</td>\n",
       "    </tr>\n",
       "    <tr>\n",
       "      <th>4</th>\n",
       "      <td>359</td>\n",
       "      <td>(E)-2-Methyl-6-methylene-3,7-octadien-2-ol (is...</td>\n",
       "      <td>NaN</td>\n",
       "      <td>Not approved</td>\n",
       "      <td>NaN</td>\n",
       "      <td>NaN</td>\n",
       "      <td>NaN</td>\n",
       "      <td>Never notified and authorised in the EU</td>\n",
       "      <td>NaN</td>\n",
       "      <td>NaN</td>\n",
       "      <td>...</td>\n",
       "      <td>NaN</td>\n",
       "      <td>NaN</td>\n",
       "      <td>NaN</td>\n",
       "      <td>NaN</td>\n",
       "      <td>NaN</td>\n",
       "      <td>NaN</td>\n",
       "      <td>NaN</td>\n",
       "      <td>NaN</td>\n",
       "      <td>NaN</td>\n",
       "      <td>NaN</td>\n",
       "    </tr>\n",
       "  </tbody>\n",
       "</table>\n",
       "<p>5 rows × 26 columns</p>\n",
       "</div>"
      ],
      "text/plain": [
       "  Active Substance ID                                          Substance  \\\n",
       "0                 351                        (4Z-9Z)-7,9-Dodecadien-1-ol   \n",
       "1                1329                        (E)-10-Dodecen-1-yl acetate   \n",
       "2                 357                     (E)-11-Tetradecen-1-yl acetate   \n",
       "3                 358  (E)-2-Methyl-6-methylene-2,7-octadien-1-ol (my...   \n",
       "4                 359  (E)-2-Methyl-6-methylene-3,7-octadien-2-ol (is...   \n",
       "\n",
       "  Category Status under Reg. (EC) No 1107/2009 Date of approval  \\\n",
       "0       AT                        Not approved              NaN   \n",
       "1       AT                        Not approved              NaN   \n",
       "2       AT                            Approved       01/09/2009   \n",
       "3      NaN                        Not approved              NaN   \n",
       "4      NaN                        Not approved              NaN   \n",
       "\n",
       "  Expiration of approval                                        Legislation  \\\n",
       "0                    NaN                                        2004/129/EC   \n",
       "1                    NaN                                        2004/129/EC   \n",
       "2             31/08/2021  2008/127, Reg. (EU) 2017/195, Reg. (EU) No 540...   \n",
       "3                    NaN                                           2007/442   \n",
       "4                    NaN                                                NaN   \n",
       "\n",
       "                                              Remark  RMS Co-RMS  ...  \\\n",
       "0                                                NaN  NaN    NaN  ...   \n",
       "1                                                NaN  NaN    NaN  ...   \n",
       "2  Substance fulfilling criteria Annex VI Reg. 22...   AT    NaN  ...   \n",
       "3                                                NaN  NaN    NaN  ...   \n",
       "4            Never notified and authorised in the EU  NaN    NaN  ...   \n",
       "\n",
       "   Source/Year  Remark  ARfD (mg/kg bw)  Source/Year.1  Remark.1  \\\n",
       "0          NaN     NaN              NaN            NaN       NaN   \n",
       "1          NaN     NaN              NaN            NaN       NaN   \n",
       "2   Dir 08/127     NaN        Not appl.     Dir 08/127       NaN   \n",
       "3          NaN     NaN              NaN            NaN       NaN   \n",
       "4          NaN     NaN              NaN            NaN       NaN   \n",
       "\n",
       "   AOEL (mg/kg bw/d)  Source/Year.2  Remark.2  \\\n",
       "0                NaN            NaN       NaN   \n",
       "1                NaN            NaN       NaN   \n",
       "2          Not appl.     Dir 08/127       NaN   \n",
       "3                NaN            NaN       NaN   \n",
       "4                NaN            NaN       NaN   \n",
       "\n",
       "   Classification (Reg. 1272/2008)  Authorised  \n",
       "0                              NaN         NaN  \n",
       "1                              NaN         NaN  \n",
       "2                              NaN  ES, IT, LU  \n",
       "3                              NaN         NaN  \n",
       "4                              NaN         NaN  \n",
       "\n",
       "[5 rows x 26 columns]"
      ]
     },
     "execution_count": 28,
     "metadata": {},
     "output_type": "execute_result"
    }
   ],
   "source": [
    "file_path = r'C:\\Users\\Mike\\Desktop\\ActiveSubstances.xls'\n",
    "\n",
    "eu_pesticides_df=pd.read_excel(file_path, header=2)\n",
    "eu_pesticides_df.head()"
   ]
  },
  {
   "cell_type": "code",
   "execution_count": 36,
   "id": "d340a9b2",
   "metadata": {},
   "outputs": [],
   "source": [
    "for i in range(len(eu_pesticides_df)):\n",
    "    if  eu_pesticides_df['Active Substance ID'][i] =='Status Counts': # Had to use this format as spaces in column name\n",
    "        index_enddata = i\n",
    "# Create a new clean dataframe by removing irrelevant row Status Count  \n",
    "eu_pesticides_clean_df=eu_pesticides_df.iloc[0:index_enddata-1 , :]"
   ]
  },
  {
   "cell_type": "code",
   "execution_count": 37,
   "id": "878768fe",
   "metadata": {},
   "outputs": [
    {
     "name": "stdout",
     "output_type": "stream",
     "text": [
      "     Active Substance ID                                          Substance  \\\n",
      "0                    351                        (4Z-9Z)-7,9-Dodecadien-1-ol   \n",
      "1                   1329                        (E)-10-Dodecen-1-yl acetate   \n",
      "2                    357                     (E)-11-Tetradecen-1-yl acetate   \n",
      "3                    358  (E)-2-Methyl-6-methylene-2,7-octadien-1-ol (my...   \n",
      "4                    359  (E)-2-Methyl-6-methylene-3,7-octadien-2-ol (is...   \n",
      "...                  ...                                                ...   \n",
      "1508                1317                                              Zineb   \n",
      "1509                1008                                              Ziram   \n",
      "1510                 200                                           Zoxamide   \n",
      "1511                 201    Zucchini yellow mosaic virus (ZYMV mild strain)   \n",
      "1512                 202         Zucchini yellow mosaic virus - weak strain   \n",
      "\n",
      "     Category Status under Reg. (EC) No 1107/2009 Date of approval  \\\n",
      "0          AT                        Not approved              NaN   \n",
      "1          AT                        Not approved              NaN   \n",
      "2          AT                            Approved       01/09/2009   \n",
      "3         NaN                        Not approved              NaN   \n",
      "4         NaN                        Not approved              NaN   \n",
      "...       ...                                 ...              ...   \n",
      "1508       FU                        Not approved              NaN   \n",
      "1509   FU, RE                            Approved       01/08/2004   \n",
      "1510       FU                            Approved       01/07/2018   \n",
      "1511       FU                        Not approved              NaN   \n",
      "1512       FU                            Approved       01/06/2013   \n",
      "\n",
      "     Expiration of approval  \\\n",
      "0                       NaN   \n",
      "1                       NaN   \n",
      "2                31/08/2021   \n",
      "3                       NaN   \n",
      "4                       NaN   \n",
      "...                     ...   \n",
      "1508                    NaN   \n",
      "1509             30/04/2022   \n",
      "1510             30/06/2033   \n",
      "1511                    NaN   \n",
      "1512             31/05/2023   \n",
      "\n",
      "                                            Legislation  \\\n",
      "0                                           2004/129/EC   \n",
      "1                                           2004/129/EC   \n",
      "2     2008/127, Reg. (EU) 2017/195, Reg. (EU) No 540...   \n",
      "3                                              2007/442   \n",
      "4                                                   NaN   \n",
      "...                                                 ...   \n",
      "1508                                          01/245/EC   \n",
      "1509  03/81/EC, Reg. (EU) 2016/2016, Reg. (EU) 2018/...   \n",
      "1510  03/119/EC, Reg. (EU) 2016/2016, Reg. (EU) 2018...   \n",
      "1511                                                NaN   \n",
      "1512  Dossier complete 06/586/EC, Reg. (EU) 2018/155...   \n",
      "\n",
      "                                                 Remark  RMS Co-RMS  ...  \\\n",
      "0                                                   NaN  NaN    NaN  ...   \n",
      "1                                                   NaN  NaN    NaN  ...   \n",
      "2     Substance fulfilling criteria Annex VI Reg. 22...   AT    NaN  ...   \n",
      "3                                                   NaN  NaN    NaN  ...   \n",
      "4               Never notified and authorised in the EU  NaN    NaN  ...   \n",
      "...                                                 ...  ...    ...  ...   \n",
      "1508                                                NaN  NaN    NaN  ...   \n",
      "1509                      The original RMS was Belgium.   IT     MT  ...   \n",
      "1510     The original RMS was the UK.<br /><br /><br />   LV     FR  ...   \n",
      "1511                              Application withdrawn  NaN    NaN  ...   \n",
      "1512                    <p>The original RMS was UK.</p>   DK     AT  ...   \n",
      "\n",
      "             Source/Year  Remark        ARfD (mg/kg bw)       Source/Year.1  \\\n",
      "0                    NaN     NaN                    NaN                 NaN   \n",
      "1                    NaN     NaN                    NaN                 NaN   \n",
      "2             Dir 08/127     NaN              Not appl.          Dir 08/127   \n",
      "3                    NaN     NaN                    NaN                 NaN   \n",
      "4                    NaN     NaN                    NaN                 NaN   \n",
      "...                  ...     ...                    ...                 ...   \n",
      "1508           JMPR 1993     NaN                    NaN                 NaN   \n",
      "1509           Dir 03/81     NaN          0.08 mg/kg bw     SCoFCAH 29.6.04   \n",
      "1510  Reg. (EU) 2018/692     NaN              Not appl.  Reg. (EU) 2018/692   \n",
      "1511                 NaN     NaN                    NaN                 NaN   \n",
      "1512    EFSA 12, EFSA 12     NaN  Not appl. | Not appl.    EFSA 12, EFSA 12   \n",
      "\n",
      "      Remark.1      AOEL (mg/kg bw/d)       Source/Year.2  Remark.2  \\\n",
      "0          NaN                    NaN                 NaN       NaN   \n",
      "1          NaN                    NaN                 NaN       NaN   \n",
      "2          NaN              Not appl.          Dir 08/127       NaN   \n",
      "3          NaN                    NaN                 NaN       NaN   \n",
      "4          NaN                    NaN                 NaN       NaN   \n",
      "...        ...                    ...                 ...       ...   \n",
      "1508       NaN                    NaN                 NaN       NaN   \n",
      "1509       NaN     0.015 mg/kg bw/day           Dir 03/81       NaN   \n",
      "1510       NaN       0.3 mg/kg bw/day  Reg. (EU) 2018/692       NaN   \n",
      "1511       NaN                    NaN                 NaN       NaN   \n",
      "1512       NaN  Not appl. | Not appl.    EFSA 12, EFSA 12       NaN   \n",
      "\n",
      "                        Classification (Reg. 1272/2008)  \\\n",
      "0                                                   NaN   \n",
      "1                                                   NaN   \n",
      "2                                                   NaN   \n",
      "3                                                   NaN   \n",
      "4                                                   NaN   \n",
      "...                                                 ...   \n",
      "1508              STOT SE 3 - H335, Skin Sens. 1 - H317   \n",
      "1509  Acute Tox. 2 - H330, Acute Tox. 4 - H302, Aqua...   \n",
      "1510  Aquatic Acute 1 - H400, Aquatic Chronic 1 - H4...   \n",
      "1511                                                NaN   \n",
      "1512                                                NaN   \n",
      "\n",
      "                                             Authorised  \n",
      "0                                                   NaN  \n",
      "1                                                   NaN  \n",
      "2                                            ES, IT, LU  \n",
      "3                                                   NaN  \n",
      "4                                                   NaN  \n",
      "...                                                 ...  \n",
      "1508                                                NaN  \n",
      "1509  AT, BE, CY, CZ, EL, FR, HR, HU, IT, MT, PL, PT...  \n",
      "1510  AT, BE, BG, CY, CZ, DE, EL, ES, FR, HR, HU, IE...  \n",
      "1511                                                NaN  \n",
      "1512                                                 FR  \n",
      "\n",
      "[1513 rows x 26 columns]\n"
     ]
    }
   ],
   "source": [
    "print(eu_pesticides_clean_df)"
   ]
  },
  {
   "cell_type": "code",
   "execution_count": 33,
   "id": "5efe9571",
   "metadata": {},
   "outputs": [
    {
     "name": "stdout",
     "output_type": "stream",
     "text": [
      "1544\n"
     ]
    }
   ],
   "source": [
    "eu_pesticides_clean_df.head()\n",
    "print(len(eu_pesticides_df))"
   ]
  },
  {
   "cell_type": "code",
   "execution_count": 14,
   "id": "eb6224a7",
   "metadata": {},
   "outputs": [
    {
     "name": "stdout",
     "output_type": "stream",
     "text": [
      "<class 'pandas.core.frame.DataFrame'>\n",
      "RangeIndex: 1513 entries, 0 to 1512\n",
      "Data columns (total 26 columns):\n",
      " #   Column                               Non-Null Count  Dtype \n",
      "---  ------                               --------------  ----- \n",
      " 0   Active Substance ID                  1513 non-null   object\n",
      " 1   Substance                            1513 non-null   object\n",
      " 2   Category                             1185 non-null   object\n",
      " 3   Status under Reg. (EC) No 1107/2009  1513 non-null   object\n",
      " 4   Date of approval                     590 non-null    object\n",
      " 5   Expiration of approval               567 non-null    object\n",
      " 6   Legislation                          1215 non-null   object\n",
      " 7   Remark                               740 non-null    object\n",
      " 8   RMS                                  658 non-null    object\n",
      " 9   Co-RMS                               521 non-null    object\n",
      " 10  Assess Risk                          586 non-null    object\n",
      " 11  Reg 396/2005                         754 non-null    object\n",
      " 12  Candidate for substitution           103 non-null    object\n",
      " 13  Basic substance                      48 non-null     object\n",
      " 14  Low-risk a.s.                        33 non-null     object\n",
      " 15  ADI (mg/kg bw/d)                     636 non-null    object\n",
      " 16   Source/Year                         649 non-null    object\n",
      " 17   Remark                              33 non-null     object\n",
      " 18   ARfD (mg/kg bw)                     595 non-null    object\n",
      " 19   Source/Year.1                       609 non-null    object\n",
      " 20   Remark.1                            33 non-null     object\n",
      " 21   AOEL (mg/kg bw/d)                   568 non-null    object\n",
      " 22   Source/Year.2                       584 non-null    object\n",
      " 23   Remark.2                            32 non-null     object\n",
      " 24   Classification (Reg. 1272/2008)     552 non-null    object\n",
      " 25   Authorised                          569 non-null    object\n",
      "dtypes: object(26)\n",
      "memory usage: 307.5+ KB\n"
     ]
    }
   ],
   "source": [
    "eu_pesticides_clean_df.info()\n",
    "\n"
   ]
  },
  {
   "cell_type": "code",
   "execution_count": 31,
   "id": "587272b8",
   "metadata": {},
   "outputs": [
    {
     "name": "stdout",
     "output_type": "stream",
     "text": [
      "1513\n"
     ]
    }
   ],
   "source": [
    "print(len(eu_pesticides_clean_df))"
   ]
  },
  {
   "cell_type": "code",
   "execution_count": 34,
   "id": "54ee0a32",
   "metadata": {},
   "outputs": [],
   "source": [
    "# As column in excel sheet was missing comma at the last EU country this needed to be added to allow the string to be made\n",
    "\n",
    "eu_pesticides_clean_comma_df=eu_pesticides_clean_df.assign(AuthorisedComma = eu_pesticides_clean_df[' Authorised'] + ',')"
   ]
  },
  {
   "cell_type": "code",
   "execution_count": 17,
   "id": "571a1014",
   "metadata": {},
   "outputs": [],
   "source": [
    "#Create a long string of all the entries in \"AuthorisedComma\".\n",
    "total_string='' #Initialise the string\n",
    "#Loop through dataframe adding each entry in \"AuthorisedComma\" to the string \"total_string\"   \n",
    "for i in range(len(eu_pesticides_clean_comma_df)): \n",
    "    total_string=total_string+str(eu_pesticides_clean_comma_df['AuthorisedComma'][i])"
   ]
  },
  {
   "cell_type": "code",
   "execution_count": 35,
   "id": "46d72a6a",
   "metadata": {},
   "outputs": [
    {
     "name": "stdout",
     "output_type": "stream",
     "text": [
      "nannanES, IT, LU,nannanEL, ES, IT,EL, ES, IT,AT, CZ, DE, EL, ES, IT, LU, NL, PT, SI,nanCZ, EL, ES, IT,CZ, EL, ES, IT,AT, BE, CZ, DE, DK, EE, EL, ES, FI, HR, HU, IT, LU, NL, PL, PT, SE, SI,ES, PT,BE, ES, IT, PL,BE, ES, IT, PL,AT, BE, CZ, EL, ES, HU, IE, IT, NL, UK,nanAT, CY, CZ, DE, EL, ES, HU, IT, LU, MT, PT, SI,nanES, IT,CZ,BE, IT,AT, BE, CY, CZ, DE, EL, ES, HU, IE, IT, NL, UK,nanES,nanBE, IT,AT, BE, CZ, DK, EE, EL, ES, FI, HU, IT, NL, PL, SE, UK,nanES,nannannannannanAT, CZ, DE, EL, ES, HU, IT, NL, PT, SI,AT, CZ, DE, EL, ES, HU, IT, LU, NL, SI,BE, PL,BE, PL,AT, CZ, DE, HU, IT, LU, SI,ES,AT, BE, CZ, DK, EL, HU, IT, PL,nannanEL, ES,EL, ES,nannanEL,EL,nannannannannannannannannannanAT, BE, CY, CZ, DE, DK, FI, FR, HR, IE, LT, LU, LV, NL, PL, SE,nanBE, DE, EL, ES, FR, HR, HU, IT, PL, PT,nannanAT, BE, BG, CZ, DE, DK, EE, EL, ES, FR, HR, HU, IE, IT, LT, LU, NL, PT, RO, SI, SK, UK,AT, BE, CY, ES, FR, HR, IT, PL, PT, SI,AT, BE, CY, CZ, DE, EL, ES, FR, HR, IE, IT, LT, LV, MT, NL, PT, RO, SI, UK,nannanAT, BE, BG, CY, CZ, DE, DK, EE, EL, ES, FI, FR, HR, HU, IE, IT, LT, LU, LV, MT, NL, PL, PT, RO, SE, SI, SK, UK,BE, ES, IE, LU, NL, UK,AT, DE, FR, IT,nannannannannannannannannannannannannannannannanCY, EL, ES, HR, PT,nannannannannannannannannannannannannannanAT, BE, CZ, DE, DK, EE, EL, ES, FI, FR, HR, HU, IE, IT, LU, NL, PL, PT, SE, SI, SK, UK,nannanAT, BE, BG, CY, DE, EL, ES, FR, HU, MT, PT, SI,nanAT, BE, BG, CY, CZ, DE, DK, EE, EL, ES, FI, FR, HR, HU, IE, IT, LT, LU, LV, MT, NL, PL, PT, RO, SE, SI, SK, UK,nannanAT, BE, CY, CZ, DE, EL, ES, FR, HR, IT, LU, NL, PL, RO, SI, UK,AT, BE, BG, CY, CZ, DE, DK, EL, ES, FI, FR, HR, HU, IE, IT, LT, LU, MT, NL, PL, PT, RO, SE, SI, SK, UK,AT, BE, CZ, DE, DK, FI, FR, IE, LU, NL, PL, SE, UK,nannanBE, BG, CY, EL, ES, FR, HU, IT, NL, PT, RO,nanAT, BE, BG, CY, CZ, DE, DK, EE, EL, ES, FI, FR, HR, HU, IE, IT, LT, LU, LV, NL, PL, PT, RO, SE, SI, SK, UK,nanCY, EL, ES, FR, IT, MT, PT,nannanBE, DE, DK, FR, IT, PL, UK,nannannanBE, DK, ES, FR, IT, NL, UK,nannannannannannannannannannannannannannannanAT, BE, BG, CY, CZ, DE, EL, ES, FI, FR, HR, HU, IT, LU, MT, PL, PT, RO, SE, SI, SK, UK,AT, BE, BG, CY, CZ, DE, EL, ES, FI, FR, HR, HU, IT, LU, MT, PL, PT, RO, SE, SI, SK, UK,AT, BE, BG, CY, CZ, DE, EL, ES, FI, FR, HR, HU, IT, LU, MT, PL, PT, RO, SE, SI, SK, UK,AT, BE, BG, CY, CZ, DE, EL, ES, FI, FR, HR, HU, IT, LU, MT, PL, PT, RO, SE, SI, SK, UK,BG, IE, UK,AT, BE, BG, CY, CZ, DE, DK, EE, EL, ES, FI, FR, HR, HU, IE, IT, LT, LU, LV, MT, NL, PL, PT, RO, SE, SI, SK, UK,nanAT, BE, CY, EL, ES, FR, HU, NL,NL,AT, BE, BG, CY, CZ, DE, EE, EL, ES, FR, HR, HU, IE, IT, LT, LU, LV, MT, NL, PL, PT, SI, SK, UK,nannanAT, BE, BG, CZ, DE, EE, EL, ES, FI, FR, HR, HU, IE, IT, LT, LU, LV, NL, PL, PT, RO, SE, SI, SK, UK,nannannannanAT, BE, BG, CZ, DE, DK, EE, EL, ES, FI, FR, HR, HU, IE, IT, LT, LU, LV, NL, PT, RO, SE, SI, SK, UK,AT, BE, BG, CY, CZ, DE, EE, EL, ES, FI, FR, HR, HU, IE, IT, LT, LU, LV, NL, PL, PT, RO, SE, SI, SK, UK,AT, BE, BG, CY, CZ, DE, EE, EL, ES, FI, FR, HR, HU, IE, IT, LT, LU, LV, NL, PL, PT, RO, SE, SI, SK, UK,AT, BE, BG, CY, CZ, DE, EE, EL, ES, FI, FR, HR, HU, IE, IT, LT, LU, LV, NL, PL, PT, RO, SE, SI, SK, UK,AT, BE, BG, CY, CZ, DE, EE, EL, ES, FI, FR, HR, HU, IE, IT, LT, LU, LV, NL, PL, PT, RO, SE, SI, SK, UK,nanNL,EL, ES, PT,nannannannannannanBE, CY, DE, EL, ES, FR, IE, IT, LU, NL, SI, SK, UK,nannannannannannannannannannannannannannannannannanBE, DE, EL, ES, FR, HU, IT, LU, NL, PL, PT, RO, SI, SK, UK,nannanAT, BE, BG, CY, CZ, DE, DK, EE, EL, ES, FR, HR, HU, IT, LT, LU, LV, NL, PL, PT, SE, SI, SK, UK,nannanBG, EL, ES, FR, HU, IT, PT, RO,nannannannanAT, BE, BG, CY, CZ, DE, DK, EE, EL, ES, FI, FR, HR, HU, IE, IT, LT, LU, LV, MT, NL, PL, PT, RO, SE, SI, SK, UK,BE, BG, CY, CZ, DE, DK, EE, EL, ES, FI, FR, HR, IE, IT, LT, LU, LV, NL, PL, PT, RO, SE, SI, SK, UK,nannannannanBE, CY, CZ, DE, DK, EL, FI, FR, HU, IT, LT, NL, PL, PT, RO, SE, UK,BE, CY, CZ, DE, DK, EL, FI, FR, HU, IT, LT, NL, PL, PT, RO, SE, UK,BE, BG, CY, CZ, DE, EL, FR, IT, NL, PL, RO, SI, UK,BE, CY, DK, EL, ES, FR, IE, IT, NL, PL, SE, SI, UK,BE, CY, DK, EL, ES, FR, IE, IT, NL, PL, SE, SI, UK,BE, BG, CZ, DE, DK, EL, ES, FR, NL, PT, RO, SE, SI, UK,nannanCY, CZ, EL, FR, HR, IE, IT, NL, RO, SI, UK,CY, CZ, EL, FR, HR, IE, IT, NL, RO, SI, UK,nannanFR,nannanEL, ES, FR, IT, PL,BE, EL, FI, FR, IT, NL, PL, SE,BE, CY, DE, DK, IE, LU, PT, SI, UK,DE, DK, ES, NL, SE, UK,EL, ES, FR, IT, LU, PL, RO, SE,BG, CZ, EL, ES, FR, HR, IT, MT, PL,EL, ES, FR, IT, RO,CZ, EL, FR, HU, IT, NL, PL,nanBE, BG, CY, DE, DK, HR, HU, IE, IT, LT, LU, PT, SI, SK, UK,PL,nannannannannannannannannannanCY, EL, ES, FR, IT, PT,CY, EL, ES, FR, IT, PT,BG, EL, ES, FR, LU, MT, NL, PL,nanCZ, DK, EL, ES, FI, FR, HU, MT, NL, SE, SI,CY, EL, ES, FR, IT, PT,CY, EL, ES, FR, IT, PT,BE, CY, CZ, DE, DK, HU, IE, IT, PT, SI, UK,nannanBE, BG, CZ, DE, EL, ES, FR, IT, LU, PL, RO,BE, BG, CZ, DE, EL, ES, FR, IT, LU, PL, RO,AT, CY, CZ, EL, ES, HU, IE, MT, PL, PT, UK,AT, BE, CY, CZ, DE, EL, ES, FR, HR, HU, IT, MT, NL, PL, PT, RO, SK,nannanBE, BG, CY, EL, ES, FR, HU, IE, IT, NL, PL, RO,nannannannanEL, PT,AT, CY, EL, ES, FR, HR, HU, IT, MT, NL, PL, PT, RO, SI,nannannanBE, BG, CY, CZ, DK, EE, EL, ES, FI, FR, HR, HU, IE, IT, LT, LU, LV, NL, PL, PT, RO, SE, SI, SK, UK,AT, BE, BG, CZ, DE, DK, EL, ES, FR, HU, IE, IT, LT, LU, LV, NL, PL, PT, RO, SE, SK, UK,nannanBE, DE, ES, FI, FR, HR, HU, LT, LU, LV, NL, PT, UK,AT, BE, BG, CZ, DE, EE, EL, ES, FI, FR, HR, HU, IE, IT, LT, LU, LV, NL, PL, PT, RO, SE, SI, SK, UK,nannannanBE, EE, ES, HU, NL, PT, SE, SK, UK,nannanAT, BE, BG, CY, CZ, DE, DK, EE, EL, ES, FI, FR, HR, HU, IE, IT, MT, NL, PL, PT, RO, SE, UK,AT, BE, BG, CZ, DE, EE, ES, FI, FR, HU, IT, LT, LU, LV, NL, PL, RO, SE, SK, UK,nannannannannannannanBG, EL, ES, IT, PT, RO,NL,nanAT, BE, BG, CZ, DE, EE, ES, FI, FR, HR, HU, IE, IT, LT, LU, LV, NL, PL, PT, RO, SE, SI, SK, UK,nannannanAT, BE, DE, EE, FR, LT, LV, SE,nanBE, CY, EL, HU, IT, MT, PT, RO,nanAT, BE, BG, CY, CZ, DE, DK, EE, EL, ES, FI, FR, HR, HU, IE, IT, LT, LU, LV, MT, NL, PL, PT, RO, SE, SI, SK, UK,nannannanIT, NL, RO,nannannannannannanAT, BE, CZ, DE, DK, ES, FI, HU, IE, LU, MT, NL, PL, PT, SI, SK, UK,AT, BE, BG, CZ, DE, FR, HU, IE, IT, LU, RO, SK, UK,nanAT, BE, CY, DE, EL, ES, FR, HR, HU, IE, IT, MT, NL, PL, PT, RO, SK, UK,AT, BE, CZ, DE, DK, ES, FI, FR, IT, NL, PT, SI, UK,nannannannannannannannannannanDE, EE, HU, LT, LV, SI,nannannannannannanCZ, HU, LU, PL,nannanBE, EL, ES, FR, IT, NL, PL, UK,AT, CZ, DK, ES, FI, IT, NL, SE, SK,AT, CZ, FI, IT, SE, SK,nannanAT, BE, BG, CY, CZ, DE, EE, EL, ES, FR, HR, HU, IE, IT, LT, LU, LV, NL, PL, PT, RO, SI, SK, UK,nannanAT, BE, DE, FR, NL, UK,nanAT, DE, UK,nannannannannannanBG, EE, UK,AT, BE, CZ, DE, EE, EL, ES, FI, FR, HU, IE, IT, LT, LU, LV, MT, NL, PL, PT, SE, SK, UK,nannanNL,nanAT, BE, DE, EL, ES, FR, IT, NL, PL, PT, UK,nannannannannannannannannannanAT, BE, BG, CY, CZ, DE, EL, ES, FR, HR, HU, IE, IT, LT, LU, MT, NL, PL, PT, RO, SI, SK, UK,nannannannannannannannannannannannannannannanBE, HU, NL, PL, SK, UK,nannannanAT, BE, BG, CZ, DE, DK, EL, ES, FI, FR, HR, HU, IE, IT, LT, LU, LV, NL, PL, PT, RO, SE, SI, SK, UK,nannannannannannanCZ, ES, SK, UK,AT, BE, BG, CZ, DE, EE, EL, ES, FR, HR, HU, IE, IT, LV, PL, PT, RO, SI, SK, UK,nannanEE, ES, SE, UK,PL,IT, PL,ES, SK,nannannannannannannannannannannanNL,nannannannannannanAT, BE, BG, CY, CZ, DE, EE, EL, ES, FI, FR, HR, HU, IE, IT, LT, LU, LV, NL, PL, PT, RO, SE, SI, SK, UK,BG, CY, DE, DK, EL, ES, FR, HR, IE, IT, NL, PL, PT, RO, UK,nanBE, BG, CY, DE, EL, ES, HR, IE, IT, LU, NL, PL, PT, RO, SI, SK, UK,AT, BE, BG, CY, CZ, DE, DK, EE, EL, ES, FR, HR, HU, IE, IT, LT, LU, LV, MT, NL, PL, PT, RO, SE, SI, SK, UK,nanBE, CY, DE, DK, EE, ES, FI, FR, IE, NL, PL, SE, SI, UK,AT, BE, BG, CY, CZ, DE, DK, EE, EL, ES, FI, FR, HR, HU, IE, IT, LT, LU, LV, NL, PL, PT, RO, SE, SI, SK, UK,AT, BE, BG, DE, EE, EL, HU, IT, LU, PT, RO, SK, UK,HU, NL,nannanBE, BG, CZ, DE, DK, EL, ES, FI, FR, HU, IE, IT, LU, NL, PL, PT, SE, SK, UK,nanBG, CY, FR, HR, HU, IT, LU, PL, PT, RO,AT, BE, BG, CY, CZ, DE, EL, ES, HR, HU, IT, LT, LU, LV, MT, PL, PT, RO, SI, SK,BG, CY, EL, ES, HR, HU, IT, PL, PT, SI,AT, BE, BG, CY, CZ, DE, EL, ES, HR, HU, IE, IT, LU, MT, PL, PT, RO, SI, SK, UK,nanAT, BE, BG, CY, DE, EL, ES, FR, IT, LU, NL, PL, PT, RO, UK,nannannannannannannannannannannannannanAT, BE, BG, CY, CZ, DE, EL, ES, FI, FR, HU, IE, LT, NL, PL, PT, RO, SE, SI, SK, UK,AT, BE, BG, CY, CZ, DE, EL, ES, FI, FR, HU, IE, LT, NL, PL, PT, RO, SE, SI, SK, UK,AT, BE, BG, CY, CZ, DE, DK, EE, EL, ES, FI, FR, HR, HU, IE, IT, LT, LU, LV, MT, NL, PL, PT, RO, SE, SI, SK, UK,nannannanAT, BE, BG, CY, CZ, DE, DK, EE, EL, ES, FI, FR, HR, HU, IE, IT, LT, LU, LV, NL, PL, PT, RO, SE, SI, SK, UK,nanBE, BG, CZ, DE, DK, EL, ES, FI, FR, HR, HU, IE, IT, LU, NL, PL, PT, RO, SE, SI, SK, UK,nanAT, BE, BG, CY, CZ, DE, EE, EL, ES, FR, HR, HU, IE, IT, LT, LU, LV, NL, PL, PT, RO, SE, SI, SK, UK,BE, BG, CY, CZ, DE, EL, ES, FR, HR, IT, NL, PL, PT,nanEL, ES, FR, IT, PT,nannanAT, BE, BG, CY, CZ, DE, DK, EE, EL, ES, FI, FR, HR, HU, IE, IT, LU, MT, NL, PL, PT, RO, SE, SI, SK, UK,AT, BE, BG, CY, CZ, DE, DK, EE, EL, ES, FI, FR, HR, HU, IE, IT, LT, LU, LV, MT, NL, PL, PT, RO, SE, SI, SK, UK,AT, BE, BG, CZ, DE, EE, EL, ES, FI, FR, HR, HU, IE, IT, LT, LV, MT, NL, PL, PT, RO, SI, SK, UK,AT, BE, BG, CY, CZ, DE, DK, EE, EL, ES, FI, FR, HR, HU, IE, IT, LT, LU, LV, MT, NL, PL, PT, RO, SE, SI, SK, UK,nanAT, BE, EE, EL, HU, IT, LU, PT,BE, BG, EL, ES, NL, PL, PT,nannanAT, BE, CY, CZ, DE, DK, EL, ES, FI, FR, HU, IE, IT, NL, PL, PT, SE, SI, UK,AT, BE, BG, CZ, DE, EL, FR, HR, HU, IT, LU, NL, PL, PT, RO, SI, SK, UK,nannanAT, BE, BG, CY, CZ, DE, DK, EE, EL, ES, FI, FR, HR, HU, IE, IT, LT, LU, LV, MT, NL, PL, PT, RO, SE, SI, SK, UK,nannanBG, HU, SE,CZ, ES, SE, SK, UK,nanES,nannannannannanAT, BE, BG, CY, CZ, DE, DK, EE, EL, ES, FI, FR, HR, HU, IE, IT, LT, LU, LV, MT, NL, PL, PT, RO, SI, SK, UK,nannannannannannanAT, BE, BG, CY, CZ, DE, DK, EE, EL, ES, FI, FR, HR, HU, IE, IT, LT, LU, LV, PT, SK, UK,nannanEL, ES, IT, PT,nannannannannannannannannanBE, ES,PT,AT, BE, BG, CY, CZ, DE, DK, EE, EL, ES, FI, FR, HR, HU, IE, IT, LT, LU, LV, MT, NL, PL, PT, RO, SE, SI, SK, UK,nannannanBE, BG, CY, CZ, EL, FR, HR, HU, NL, PL, SK, UK,BE, BG, CY, CZ, EL, FR, HR, HU, NL, PL, SK, UK,AT, BE, BG, CY, CZ, DE, DK, EE, EL, ES, FI, FR, HR, HU, IE, IT, LT, LU, LV, MT, NL, PL, PT, RO, SE, SI, SK, UK,nannannannannanAT, BG, CZ, DE, EE, FR, HR, HU, IE, LT, LV, PL, RO, SI, SK, UK,nanAT, BE, BG, CY, CZ, DE, EL, ES, FI, FR, HR, HU, IE, IT, LT, LU, LV, NL, PL, PT, RO, SE, SI, SK, UK,nannanBE, ES, SK, UK,AT, BE, BG, CY, CZ, DE, DK, EL, ES, FI, FR, HR, HU, IE, IT, LT, LU, LV, MT, NL, PL, PT, RO, SE, SI, SK, UK,nannannannanAT, BE, BG, CZ, DE, EE, FR, HR, HU, LT, LU, LV, PL, RO, SK, UK,nannannannannanNL,nannannannannannannanSE, SK, UK,nanBG, CZ, ES, FR, IT, PT, RO, SK,nannanAT, BE, BG, CY, CZ, DE, DK, EE, EL, ES, FI, FR, HR, HU, IE, IT, LT, LU, LV, MT, NL, PL, RO, SE, SI, SK, UK,nanIT, SK,nanAT, BE, CZ, DK, EL, ES, HU, IT, NL, PL, PT, SI,IT,DE, EE, EL, IT, NL,AT, BE, BG, CY, CZ, DE, DK, EE, EL, ES, FI, FR, HR, HU, IE, IT, LT, LU, LV, NL, PL, PT, RO, SE, SI, SK, UK,nanBE, ES, PL,nanBE,nanAT, BE, BG, CY, EL, ES, FR, HR, HU, IT, NL, PL, PT, RO, SI, SK,nannannannanBG, HU, IE, IT, NL, PL, PT, SK, UK,nannanAT, BE, BG, CY, CZ, DE, EL, ES, FI, FR, HR, HU, IE, IT, LU, NL, PL, PT, RO, SE, SK, UK,AT, BE, BG, CY, CZ, DE, EL, ES, FI, FR, HR, HU, IE, IT, LU, NL, PL, PT, RO, SE, SK, UK,nannannannannanEE, IE,nannannanUK,AT, BE, BG, CY, CZ, DE, DK, EE, EL, ES, FI, FR, HR, HU, IE, IT, LT, LU, LV, NL, PL, RO, SE, SI, SK, UK,nannannannannannanAT, BE, BG, CZ, DE, DK, EL, ES, FI, FR, HR, HU, IE, IT, LU, NL, PL, PT, RO, SE, SK, UK,nannannannannannanAT, BE, CZ, DE, EE, ES, FR, HU, IE, IT, LT, LV, NL, PL, PT, RO, SE, SI, UK,nannanAT, BG, CY, CZ, DE, EL, ES, FR, HU, IT, MT, PL, RO, SK, UK,AT, BE, BG, CY, EL, ES, FR, HR, HU, IE, IT, NL, PL, PT, SI, UK,CY, EL, ES, NL,nanCY, EL, ES, FR, HU, IT, MT, PT,nannannanES,AT, BE, BG, CY, CZ, DE, EL, ES, FR, HR, HU, IT, MT, NL, PL, PT, RO, SI, SK, UK,CZ, SK,nannannanBE, DE, EE, FR, HU, IE, LU, NL, PL, PT, RO, SI, UK,AT, BE, CY, CZ, DE, DK, EL, FI, FR, HU, IE, IT, PT, RO, SE, UK,BE, PT,nanES, LU,ES,FR,PT, UK,nanEL, ES, HU, IT, MT, PT,nannanES, FR, HR, IT, PL, PT, UK,BG, EL, ES, FR, HR, IT, MT, PT,nannannannannanAT, BE, CY, CZ, DE, DK, EL, ES, FI, FR, HR, HU, IE, IT, LU, MT, NL, PL, PT, RO, SE, SI, SK, UK,nannannannannanAT, BE, BG, CY, CZ, DK, EE, EL, ES, FI, FR, HR, HU, IE, IT, LT, LU, LV, NL, PL, PT, RO, SE, SK, UK,BE, CY, EL, ES, FR, HR, HU, LU, NL, PT, SI,nanBE, FR,BE, FR,BE, FR,BE, FR,nanAT, BE, BG, CZ, DE, EE, EL, ES, FR, HU, IE, IT, LT, LV, NL, PL, PT, RO, SE, SI, SK, UK,BE, BG, IT, LU, NL, PL, SE, SK, UK,AT, BE, BG, CY, CZ, DE, DK, EL, ES, FI, FR, HU, IE, IT, LT, LU, LV, NL, PL, PT, RO, SE, SI, SK, UK,AT, BE, BG, CY, CZ, DE, DK, EL, ES, FI, FR, HU, IE, IT, LT, LU, LV, NL, PL, PT, RO, SE, SI, SK, UK,AT, BG, CY, CZ, DE, EL, ES, FR, HU, IT, PL, PT, RO, SE, SI, SK,nannannannannannannannannannannannanAT, BE, CY, CZ, DE, DK, EE, EL, ES, FI, FR, HR, IE, IT, LT, LU, LV, NL, PL, PT, RO, SE, SI, SK, UK,nannannannanAT, BE, BG, CY, CZ, DE, EL, ES, FR, HR, HU, IE, IT, LU, MT, PL, PT, RO, SK, UK,nanAT, BE, BG, CY, CZ, DE, DK, EE, EL, ES, FI, FR, HR, HU, IE, IT, LT, LU, LV, MT, NL, PL, PT, RO, SE, SI, UK,AT, BE, BG, CY, CZ, DE, DK, EE, EL, ES, FI, FR, HR, HU, IE, IT, LT, LU, LV, MT, NL, PL, PT, RO, SE, SI, SK, UK,EL, IT,nannannannanAT, BE, BG, CY, CZ, DE, EE, EL, ES, FI, FR, HR, HU, IE, IT, LT, LU, LV, NL, PL, PT, RO, SI, SK, UK,AT, BE, BG, CY, CZ, DE, DK, EE, EL, ES, FI, FR, HR, HU, IE, IT, LT, LU, LV, MT, NL, PL, PT, RO, SE, SI, SK, UK,nanNL,nannannannanAT, BE, BG, CY, CZ, DE, DK, EE, EL, ES, FI, FR, HR, HU, IE, IT, LT, LU, LV, MT, NL, PL, PT, RO, SE, SI, SK, UK,AT, BE, BG, CY, CZ, DE, EE, EL, ES, FR, HR, HU, IE, IT, LT, LU, LV, MT, NL, PL, PT, RO, SI, SK, UK,nannannannannannannanAT, BE, BG, CZ, DE, EL, FR, HR, HU, IE, LV, NL, RO, SK, UK,EL, ES,AT, BE, BG, CY, CZ, DE, EE, EL, ES, FI, FR, HR, HU, IE, IT, LT, LU, LV, MT, NL, PL, PT, RO, SE, SI, SK, UK,AT, BE, BG, CY, CZ, DE, DK, EE, EL, ES, FI, FR, HR, HU, IE, IT, LT, LU, LV, NL, PL, PT, RO, SE, SI, SK, UK,nannannannanAT, BE, BG, CZ, DE, EE, EL, ES, FR, HR, HU, IE, IT, LT, LU, LV, NL, PL, PT, RO, SE, SK, UK,nanAT, BE, BG, CY, CZ, DE, DK, EL, ES, FI, HR, HU, IT, LT, LU, LV, MT, NL, PL, PT, SE, SI,AT, BE, BG, CY, CZ, DE, DK, EL, ES, FI, HR, HU, IT, LT, LU, LV, MT, NL, PL, PT, SE, SI,NL,AT, PT,nannannanCZ, EL, FR, HR, HU, PL, PT, RO, SK,AT, BE, BG, CY, CZ, DE, DK, EE, EL, ES, FI, FR, HR, HU, IE, IT, LT, LU, LV, MT, NL, PL, PT, RO, SE, SI, SK, UK,nanUK,nannannannanAT, BE, BG, CY, CZ, DE, EL, ES, FR, HR, HU, IE, IT, LU, NL, PL, PT, RO, SI, UK,BG, CY, CZ, EL, ES, FR, HR, HU, IT, MT, PL, PT, RO, UK,AT, BE, BG, CY, CZ, DE, EE, EL, ES, FI, FR, HR, HU, IE, IT, LT, LU, LV, MT, NL, PL, RO, SE, SI, SK, UK,nanAT, BE, BG, CY, CZ, DE, DK, EL, ES, FR, HR, HU, IE, IT, LU, MT, NL, PL, PT, RO, SE, SI, SK, UK,nannanAT, BE, BG, CY, CZ, DE, DK, EE, EL, ES, FI, FR, HR, HU, IE, IT, LT, LU, LV, NL, PL, PT, RO, SE, SI, SK, UK,EL, ES, FR, IT, PT,nanBE, BG, CY, DE, EL, ES, IT, NL, PL, PT, RO,nannannanAT, BE, BG, CY, CZ, DE, DK, EE, EL, ES, FI, FR, HR, HU, IE, IT, LT, LU, LV, MT, NL, PL, PT, RO, SE, SI, SK, UK,BE, BG, CY, DE, EL, ES, FR, HR, HU, IE, IT, MT, NL, PL, RO, UK,nannannannannannannannannanAT, BE, BG, CZ, DE, DK, FI, FR, HR, HU, IE, LT, LV, PL, RO, SE, SK,AT, BE, BG, CZ, DE, DK, FI, FR, HR, HU, IE, LT, LV, PL, RO, SE, SK,BE, BG, CY, EL, ES, FR, IE, IT, NL, PT, UK,nannannanBE, CY, EL, ES, FR, IT, MT, NL, PT,AT, BE, CY, CZ, DE, DK, EL, ES, FR, HU, IT, LU, NL, PL, PT, SI, UK,AT, BE, CZ, DE, EL, ES, FI, FR, HR, HU, IE, IT, LU, NL, PL, PT, SE, SI, SK, UK,nannanAT, BE, BG, CY, CZ, DE, DK, EE, EL, ES, FI, FR, HR, HU, IE, IT, LT, LV, MT, NL, PL, PT, RO, SE, SI, SK, UK,AT, BE, BG, CY, CZ, DE, DK, EE, EL, ES, FI, FR, HR, HU, IE, IT, LT, LV, MT, NL, PL, PT, RO, SE, SI, SK, UK,nannannanAT, BE, BG, CZ, DE, DK, EE, ES, FI, FR, HU, IE, IT, LT, LU, LV, NL, PL, PT, RO, SE, SI, SK, UK,AT, BE, BG, CZ, DE, DK, EE, ES, FI, FR, HU, IE, IT, LT, LU, LV, NL, PL, PT, RO, SE, SI, SK, UK,AT, BE, BG, CZ, DE, DK, EE, ES, FI, FR, HU, IE, IT, LT, LU, LV, NL, PL, PT, RO, SE, SI, SK, UK,AT, BE, BG, CZ, DE, DK, EE, ES, FI, FR, HU, IE, IT, LT, LU, LV, NL, PL, PT, RO, SE, SI, SK, UK,nanBG, EL, ES, FR, HU, IT, PT,nanBE, CZ, DE, HU, LU, NL, PL, SK,nanCY, EL, ES, FR, IT, PT,nanFR,nannannannannannannannanAT, BE, BG, CY, CZ, DE, DK, EL, ES, FI, FR, HU, IT, LT, MT, NL, PL, PT, RO, SE, SI, SK, UK,nannanCY, EL, ES, FR, IT, MT, PT,nannanAT, BE, CZ, DE, DK, EL, FI, FR, HU, IE, IT, NL, PL, RO, SE, UK,nanAT, BE, BG, CY, CZ, DE, DK, EE, EL, ES, FI, FR, HR, HU, IE, IT, LU, NL, PL, PT, RO, SE, SK, UK,nanAT, BE, BG, CY, CZ, DE, EE, EL, ES, FI, FR, HR, HU, IE, IT, LT, LV, MT, NL, PL, PT, RO, SE, SI, SK, UK,AT, BE, BG, CY, CZ, DE, EE, EL, ES, FI, FR, HR, HU, IE, IT, LT, LV, MT, NL, PL, PT, RO, SE, SI, SK, UK,nannanBE, IE, UK,nannanUK,nannanBE, BG, CY, DK, EE, EL, FI, FR, HR, HU, MT, NL, PL, PT, SE,nannannannanAT, BE, CY, DE, EL, ES, FR, IT, LU, NL, PL, PT, SI, UK,AT, BE, BG, CY, CZ, DE, DK, EE, EL, ES, FI, FR, HR, HU, IE, IT, LT, LU, LV, MT, NL, PL, PT, RO, SE, SI, SK, UK,nannanAT, BE, BG, CY, CZ, DE, DK, EE, EL, ES, FI, FR, HR, HU, IE, IT, LT, LU, LV, NL, PL, PT, RO, SE, SI, SK, UK,nanAT, BE, BG, CY, CZ, DE, EL, FR, HU, IE, IT, LT, LV, PL, PT, RO, SE, SK, UK,nannanNL,AT, BG, CY, CZ, DE, EL, ES, FR, HR, HU, IT, PT, RO, SI, SK,nanAT, BE, DE, DK, EE, FI, FR, HU, LU, NL, SE, SI, UK,BE, EL, FI, FR, NL, PL, PT, SE,nanHU,nannannanBE, BG, CY, CZ, DE, EL, ES, FR, IT, LU, PL, PT, RO, SI,BE, BG, CY, CZ, DE, EL, ES, FR, IT, LU, PL, PT, RO, SI,nannannannannanNL,AT, BE, BG, CY, CZ, DE, EL, ES, FI, FR, HR, HU, IE, IT, LU, NL, PL, PT, RO, SE, SI, SK, UK,nannannanAT, BE, DE, ES, FI, FR, IE, IT, LU, NL, PT, SE, UK,AT, BE, EE, EL, HU, IT, LU,AT, BE, BG, CZ, DE, EL, ES, FR, HR, HU, IE, IT, LU, NL, PL, PT, RO, SI, SK, UK,nannannannannanAT, BE, CY, DE, EL, ES, FR, HR, IT, LU, SI,nanAT, BE, BG, CY, CZ, DE, DK, EL, ES, FI, FR, HR, HU, IE, IT, LT, LU, LV, NL, PL, PT, RO, SE, SI, SK, UK,NL,nannannanAT, BE, BG, CY, CZ, DE, DK, EE, EL, ES, FI, FR, HR, HU, IE, IT, LT, LU, LV, MT, NL, PL, PT, RO, SI, SK, UK,BE, DK, EL, ES, FR, IT, NL, PL, PT, UK,nannannannannanIT,ES, PT,IT,nanAT, BE, CY, CZ, DE, EL, ES, FR, HU, IE, IT, NL, PL, PT, RO, SK, UK,nannanEL, ES, HU, IT, NL,SK,nannanEL, ES, MT, NL, PT,nanAT, BE, BG, CY, DE, EE, EL, ES, FI, FR, HR, HU, IT, LT, LU, LV, NL, PL, PT, RO, SI, SK, UK,EL, SK,AT, BE, CZ, DE, DK, EL, ES, FI, FR, HR, HU, IE, IT, LU, PL, PT, SE, SK, UK,AT, BE, CZ, DE, DK, EL, ES, FI, FR, HR, HU, IE, IT, LU, PL, PT, SE, SK, UK,AT, BE, BG, CZ, DE, EL, ES, FR, IE, IT, LU, MT, NL, PL, PT, SE, UK,nannanAT, BE, CY, CZ, DE, DK, EE, EL, ES, FI, FR, HR, HU, IE, LU, LV, MT, NL, PL, PT, SE, SI, SK, UK,AT, CZ, DE, FR, NL, PL, RO, SI,AT, CZ, DE, FR, NL, PL, RO, SI,AT, BE, BG, CY, CZ, DE, DK, EE, EL, ES, FI, FR, HR, HU, IE, IT, LT, LU, LV, MT, NL, PL, PT, RO, SE, SI, SK, UK,NL,nannanAT, BE, BG, CY, CZ, DE, DK, EE, EL, ES, FI, FR, HR, HU, IE, IT, LT, LU, LV, MT, NL, PL, PT, RO, SE, SI, SK, UK,AT, BE, CZ, EE, FR, HU, IE, LT, LU, LV, PL, RO, SK, UK,nanIT,AT, BE, BG, CY, CZ, DE, EE, EL, ES, FI, FR, HR, HU, IE, IT, LT, LU, LV, NL, PL, PT, SI, UK,AT, BE, BG, CY, CZ, DE, EE, EL, ES, FI, FR, HR, HU, IE, IT, LT, LU, LV, NL, PL, PT, SI, UK,nanAT, BE, DE, EE, EL, HU, IT, LU, PT, RO, SK,AT, BE, BG, CZ, DE, EE, EL, FI, FR, HR, HU, IE, IT, LT, LU, LV, MT, PL, RO, SE, SI, UK,nanAT, BE, CY, DK, EL, ES, FI, FR, IE, IT, LU, NL, PL, PT, SE, UK,nanAT, BE, BG, CZ, DE, DK, EE, EL, ES, FI, FR, HR, HU, IE, LT, LU, LV, NL, PL, RO, SE, SI, SK, UK,nanAT, CY, CZ, EL, ES, FR, HR, HU, IT, MT, PT, RO, SI, SK, UK,AT, CY, CZ, EL, ES, FR, HR, HU, IT, MT, PT, RO, SI, SK, UK,nannannanAT, BE, BG, CY, CZ, DE, DK, EE, EL, ES, FI, FR, HR, HU, IE, IT, LT, LU, NL, PL, PT, SE, SI, SK, UK,AT, BE, BG, CY, CZ, DE, DK, EE, EL, ES, FR, HR, HU, IE, IT, LT, LU, LV, MT, NL, PL, PT, RO, SI, SK, UK,AT, BE, BG, CY, CZ, DE, DK, EE, EL, ES, FR, HR, HU, IE, IT, LT, LU, LV, MT, NL, PL, PT, RO, SI, SK, UK,AT, BG, CY, EL, ES, HR, IT, NL, PT, RO, SE, SI,AT, BE, BG, CY, CZ, DE, EL, ES, FR, HR, HU, IT, MT, PL, PT, RO, SI, SK,AT, BE, BG, CY, CZ, DE, DK, EE, EL, ES, FI, FR, HR, HU, IE, IT, LU, LV, MT, NL, PL, PT, RO, SE, SI, SK, UK,AT, BE, CY, CZ, DE, EE, EL, ES, FR, HR, HU, IE, IT, LT, LU, LV, MT, NL, PL, PT, RO, SI, SK, UK,BE, BG, CY, EL, HU, IE, IT, MT, NL, PL, PT, RO,nanAT, BE, CY, CZ, DE, DK, EE, EL, ES, FI, FR, HR, HU, IE, IT, LT, LU, LV, MT, NL, PL, PT, RO, SE, SI, SK, UK,BE, DE, DK, ES, FR, IE, IT, LU, NL, PT, UK,nannannannanAT, BE, BG, CY, CZ, DE, EE, EL, ES, FI, FR, HR, HU, IE, IT, LT, LU, LV, MT, NL, PL, PT, RO, SI, SK, UK,AT, BE, BG, CZ, DE, DK, EE, ES, FI, FR, HR, HU, IE, IT, LT, LU, LV, NL, PL, PT, RO, SE, SI, SK, UK,nannannannannannanES, IE, SK, UK,BG, ES, MT, PT,nannannanBE, BG, CY, CZ, EL, HR, HU, IT, MT, NL, PL, PT, RO, SK, UK,BE, BG, CY, CZ, EL, HR, HU, IT, MT, NL, PL, PT, RO, SK, UK,BE, BG, CY, CZ, EL, HR, HU, IT, MT, NL, PL, PT, RO, SK, UK,BE, BG, CY, CZ, EL, HR, HU, IT, MT, NL, PL, PT, RO, SK, UK,nannannannannannannannannannanAT, BE, BG, CY, CZ, DE, EL, ES, FR, HR, HU, IT, LU, NL, PL, PT, RO, SI, SK,AT, BE, BG, CY, CZ, DE, DK, EE, EL, ES, FI, FR, HR, HU, IE, IT, LT, LU, LV, MT, NL, PL, PT, RO, SE, SI, SK, UK,PL,nannanDE, UK,nanAT, BE, BG, CY, CZ, DE, DK, EE, EL, ES, FR, HR, HU, IE, IT, LT, LU, LV, NL, PL, PT, RO, SE, SI, SK, UK,AT, BE, BG, CY, CZ, DE, EE, EL, ES, FI, FR, HR, HU, IE, IT, LT, LU, LV, MT, NL, PL, PT, RO, SE, SI, SK, UK,EL, FR,EL, FR,nanAT, BE, BG, CY, CZ, DE, DK, EE, EL, ES, FI, FR, HR, HU, IE, IT, LT, LU, LV, MT, NL, PL, PT, RO, SE, SI, SK, UK,nannanAT, BE, BG, CY, CZ, DE, DK, EL, ES, FR, HU, IT, LU, MT, NL, PL, PT, RO, SE, SI,CZ, DE, DK, EL, ES, FR, NL, PL, SE, UK,CZ, DE, DK, EL, ES, FR, NL, PL, SE, UK,nannannannannannannannannannannannanAT, BE, BG, CY, CZ, DE, EL, ES, FR, HR, HU, IE, IT, LU, MT, PT, RO, SI, SK, UK,nannannannannanBE, CZ, EL, HR, PL, UK,nannannanPL,AT, BE, BG, CZ, DE, EE, EL, ES, FI, FR, HR, HU, IE, IT, LT, LU, LV, NL, PL, RO, SE, SI, SK, UK,nannannannannanAT, BE, BG, CY, CZ, DE, EE, EL, ES, FR, HR, HU, IE, IT, LT, LU, LV, MT, NL, PL, PT, RO, SI, SK, UK,nannannannannannannannannannannannannannannannannannannannannanAT, BE, BG, CY, CZ, DE, EL, ES, FR, HR, IT, LU, NL, PL, PT, RO, SE,nannannannanES, FR, IT, PT,nannannannanBE, BG, CY, CZ, EL, ES, FR, HR, HU, IE, IT, MT, NL, PL, PT, RO, UK,nanAT, BE, BG, CZ, DE, EE, EL, ES, FI, FR, HU, IE, IT, LT, LU, LV, NL, PL, PT, RO, SE, SI, UK,AT, BE, BG, CZ, DE, EE, EL, ES, FI, FR, HU, IE, IT, LT, LU, LV, NL, PL, PT, RO, SE, SI, UK,nannannannanBG, CY, EL, ES, HR, IT, MT, PL, PT, RO,nannannannannannannanAT, BE, BG, CY, CZ, DE, DK, EE, EL, ES, FI, FR, HU, IE, IT, LT, LV, NL, PL, PT, RO, SE, SK, UK,BE, CY, EL, ES, FR, HU, IT, RO,nannannannannanBG, CY, EL, ES, FI, FR, HU, IT, PT,nannannanBG, FR, HR, HU, NL,DK,AT, BE, BG, CY, DE, EE, EL, ES, FI, FR, HR, HU, IT, LT, LU, LV, MT, NL, PL, RO, SE, SI,BG, EL, ES, FR, HR, HU, IT, MT, RO,nannannannannannannanAT, BE, BG, CY, CZ, DE, DK, EE, EL, ES, FI, HR, HU, IE, IT, LT, LU, MT, NL, PL, PT, RO, SE, UK,AT, BE, BG, CY, CZ, DE, EE, EL, ES, FI, FR, HR, HU, IT, LT, LU, LV, MT, NL, PT, RO, SE, SI, SK, UK,AT, BG, CZ, FR, NL, PL, PT, SE, SK, UK,AT, BE, BG, CY, CZ, DE, DK, EE, EL, ES, FI, FR, HR, HU, IE, IT, LT, LU, LV, MT, NL, PL, PT, RO, SI, SK, UK,AT, BE, BG, CY, CZ, DE, DK, EE, EL, ES, FI, FR, HR, HU, IE, IT, LT, LU, LV, MT, NL, PL, PT, RO, SI, SK, UK,AT, BE, BG, CY, CZ, DE, DK, EE, EL, ES, FI, FR, HR, HU, IE, IT, LT, LU, LV, MT, NL, PL, PT, RO, SI, SK, UK,AT, BE, BG, CY, CZ, DE, DK, EE, EL, ES, FI, FR, HR, HU, IE, IT, LT, LU, LV, MT, NL, PL, PT, RO, SI, SK, UK,AT, BE, CZ, DE, FI, IE, LU, NL, PL, RO, SK, UK,AT, BE, CZ, DE, FI, IE, LU, NL, PL, RO, SK, UK,AT, BE, CY, CZ, DE, EL, ES, FR, HU, IT, LU, PT, RO, SI, SK,nannannanAT, BE, BG, CY, CZ, EL, ES, FR, HU, IE, IT, MT, NL, PL, PT, RO, SK, UK,nannannanBE, CZ, DE, EL, ES, FR, HR, HU, IT, LT, LV, NL, PL, SE, SI, SK, UK,IE, UK,nannannannanAT, BE, BG, CZ, DE, EL, ES, FR, HR, HU, IT, LU, PL, PT, RO, SI, SK,nannannannanAT, BE, BG, CY, CZ, DE, DK, EE, EL, ES, FI, FR, HR, HU, IE, IT, LT, LU, LV, NL, PL, PT, RO, SE, SK, UK,nannannannannannanSE,DK, FI, FR, LV, PL, SE,FI, SE,nanSE,nannannanAT, BE, BG, CY, EL, ES, FR, HR, HU, IT, PL, PT, RO, SI,nanAT, DE,nannannannanAT, CZ, DE, DK, EE, ES, FI, FR, HR, HU, IE, LT, LU, LV, PL, RO, SE, SI, SK, UK,AT, BE, BG, CZ, DE, DK, EE, ES, FR, IE, LT, LU, LV, PL, SE, UK,nanAT, BE, BG, CY, CZ, DE, EE, EL, ES, FI, FR, HR, HU, IE, IT, LT, LU, LV, NL, PL, PT, RO, SI, SK, UK,AT, BE, BG, CY, CZ, DE, EE, EL, ES, FI, FR, HR, HU, IE, IT, LT, LU, LV, NL, PL, PT, RO, SI, SK, UK,nanAT, BE, CY, DE, EL, IT, LU, NL, PT, RO,nanAT, BE, CZ, DE, DK, EL, ES, FR, HR, HU, IE, IT, LU, NL, PL, PT, SE, SI, SK, UK,nanBE, BG, CY, CZ, EE, EL, ES, FR, HR, HU, IE, IT, LT, LU, LV, NL, PL, PT, RO, SI, SK, UK,nanBG, UK,nanCY, EL, ES, FR, IT,CY, EL, ES, FR, IT,nannannannannannannannannannannanAT, BE, CY, CZ, DE, DK, EL, ES, FI, FR, IE, IT, LU, NL, PL, PT, RO, SE, SI, UK,nannanAT, BE, BG, DE, DK, EL, ES, FI, FR, HR, IE, IT, LT, NL, PT, RO, SE, UK,nannannannannanAT, BE, BG, CZ, DE, DK, EL, ES, FR, HR, IE, IT, LU, NL, PL, PT, RO, SE, SI, SK, UK,nannannanAT, BE, BG, CY, CZ, DE, DK, EE, EL, ES, FI, FR, HR, HU, IE, IT, LT, LU, LV, NL, PL, PT, RO, SE, SI, SK, UK,nannannannannannannanAT, BE, BG, CY, CZ, DE, EE, EL, ES, FR, HR, HU, IE, IT, LT, LU, LV, MT, NL, PL, PT, RO, SI, SK, UK,nannanBG, EL, ES, IT, PT, RO,AT, BE, BG, CZ, DE, DK, EE, EL, ES, FI, FR, HR, HU, IE, IT, LT, LU, LV, NL, PL, PT, RO, SE, SI, SK, UK,nanHU,nannannanAT, BE, BG, CY, CZ, DE, DK, EE, EL, ES, FI, FR, HR, HU, IE, IT, LT, LU, LV, MT, NL, PL, PT, RO, SE, SI, SK, UK,nannanAT, BE, BG, CY, CZ, DE, DK, EE, EL, ES, FI, FR, HR, HU, IE, IT, LT, LU, LV, PL, PT, RO, SE, SI, SK, UK,nannannannanPL, SE, SK, UK,nannannannannanBE, BG, CY, CZ, DE, EE, EL, ES, FI, FR, IE, IT, LU, LV, PL, PT, RO, SE, UK,nannanAT, BE, CY, CZ, DE, DK, EL, ES, FR, HU, IE, IT, LU, MT, NL, PL, PT, RO, SE, SK, UK,AT, BE, BG, CY, CZ, DE, DK, EE, EL, ES, FI, FR, HR, HU, IE, IT, LT, LU, LV, MT, PL, PT, RO, SE, SI, SK, UK,AT, BE, BG, CZ, DE, DK, EE, EL, ES, FI, FR, HR, HU, IE, IT, LT, LU, LV, NL, PL, PT, RO, SE, SI, SK, UK,AT, BE, BG, CZ, DE, EL, ES, FR, HR, HU, IT, LU, MT, NL, PL, PT, RO, SI, SK, UK,nanAT, BE, BG, CZ, DE, DK, EE, EL, ES, FI, FR, HR, HU, IE, IT, LT, LU, LV, MT, NL, PL, PT, RO, SE, SI, SK, UK,nannanBE, DE, DK, ES, FI, FR, IT, LT, LU, NL, PT, SE, UK,BE, BG, CY, CZ, DE, EL, ES, FR, HR, IT, NL, PL, PT, RO, SE, SI, SK, UK,nannanCY, EL, ES, FR, HR, IT,nannanHU, NL, SE, SK, UK,nanAT, BE, BG, CY, CZ, DE, DK, EE, EL, ES, FI, FR, HR, HU, IE, IT, LT, LU, LV, MT, NL, PL, PT, RO, SE, SI, SK, UK,AT, BE, BG, CZ, DE, EL, ES, FR, HU, IE, IT, LU, NL, PL, PT, RO, UK,nannannannanAT, BE, BG, CY, CZ, DE, DK, EL, ES, FI, FR, HU, IE, IT, LU, MT, NL, PL, PT, RO, SE, SI, UK,BE, BG, CY, CZ, EL, ES, FR, HU, IT, NL, PL, RO, SK,nanNL,nanAT, BE, BG, CY, CZ, DE, DK, EE, EL, ES, FI, FR, HR, HU, IE, IT, LT, LU, LV, MT, NL, PL, PT, RO, SE, SI, SK, UK,nannannanAT, BE, BG, CY, CZ, DE, DK, EL, ES, FI, FR, HR, HU, IE, IT, LT, LU, MT, NL, PL, PT, RO, SE, SI, SK, UK,nannanAT, BE, BG, DE, DK, EE, EL, ES, FI, FR, HR, HU, IE, IT, LT, LU, LV, NL, PL, PT, RO, SE, SI, UK,AT, BE, BG, CY, CZ, DK, EL, ES, FR, HR, HU, IE, IT, NL, PL, PT, RO, SE, SI,nannannanAT, BE, BG, CY, CZ, DE, DK, EE, EL, ES, FI, FR, HR, HU, IE, IT, LT, LU, LV, NL, PL, PT, RO, SE, SI, SK, UK,AT, BG, CY, CZ, DE, EL, ES, FR, HU, IT, PL, PT, RO, SE, SI, SK, UK,nanAT, BE, BG, CZ, DE, EE, FR, HU, LT, LV, NL, PL, RO, SI, SK,nannannannanAT, BE, BG, CZ, DE, EE, EL, FI, FR, HR, HU, IE, IT, LT, LU, LV, NL, PL, RO, SE, SI, SK, UK,BE, NL, PL, UK,SK, UK,nannannanES, SK,AT, BE, BG, CY, CZ, DE, EE, EL, ES, FI, FR, HR, HU, IE, IT, LT, LU, LV, MT, NL, PL, PT, RO, SI, SK, UK,BE, BG, CZ, DE, EE, EL, HR, HU, IE, LT, LV, PL, RO, SK, UK,nanAT, CZ, DE, FR, PL, PT,AT, BE, CZ, DE, DK, EE, ES, FI, FR, HU, IT, LT, LV, PL, SE, SI, SK, UK,SK,nannannannanES, PT,ES, PT,nannannannanAT, BE, BG, CY, CZ, DE, EE, EL, ES, FI, FR, HR, HU, IE, IT, LT, LU, LV, MT, NL, PL, PT, RO, SE, SI, SK, UK,nannanAT, DK, EL, ES, IT,AT, BE, BG, CY, CZ, DE, EL, ES, FR, HR, HU, IE, IT, LU, MT, NL, PL, PT, RO, SI, SK, UK,EL, FR, PL,nannannannannanBE,nannannanAT, BE, BG, CY, CZ, DE, EE, EL, ES, FI, FR, HU, IE, IT, LT, LU, LV, NL, PL, RO, SE, SK, UK,nannannannanBE, CZ, DE, DK, EE, ES, FR, IE, IT, LT, LU, LV, NL, PL, SE, SK, UK,nannannannanCZ, DE, FR, HU, SK,AT, BG, CY, CZ, DE, EL, ES, HR, HU, IT, PL, PT, RO, SK,nannannannannannannannanHU,nanNL,nannanUK,nannannannanAT, BG, CY, CZ, DE, EL, ES, HR, HU, IT, PL, PT, RO, SK,AT, BG, CY, CZ, DE, EL, ES, HR, HU, IT, PL, PT, RO, SK,nannannannanNL, UK,nannannannannannanBE, BG, CY, EL, ES, FR, HR, HU, IT, LU, NL, PL, PT, RO, SI,BE, BG, CY, EL, ES, FR, HR, HU, IT, LU, NL, PL, PT, RO, SI,AT, BE, BG, CY, CZ, DE, DK, EL, ES, FR, HR, HU, IE, IT, LU, LV, MT, NL, PL, PT, RO, SE, SI, SK, UK,BE, EE, EL, ES, FI, HR, HU, NL, PL, PT, UK,BE, CY, EL, ES, FR, HU, IT, LU, MT, NL, PT,AT, BE, BG, CY, CZ, DE, DK, EL, ES, FI, FR, HR, HU, IE, IT, LT, LU, MT, NL, PL, PT, SE, SI, SK, UK,AT, BE, BG, CY, CZ, DE, DK, EE, EL, ES, FI, FR, HR, HU, IE, IT, LT, LU, LV, PL, PT, RO, SE, SI, SK, UK,nannanES, FR, IT, PT,FR, IT, PT,BE, CY, DK, EE, FI, FR, HU, IT, LT, LV, NL, SE, UK,nannannannanBE, BG, CZ, DE, EL, ES, FR, HU, IT, LU, NL, PL, PT, RO, SK,nannanBE, CZ, EE, ES, FI, FR, HU, IE, IT, LU, LV, SK, UK,nanAT, BE, BG, CY, CZ, DE, EL, ES, HR, HU, IE, IT, NL, PL, PT, RO, SI, SK, UK,AT, BE, BG, CY, CZ, DE, EL, ES, HR, HU, IE, IT, NL, PL, PT, RO, SI, SK, UK,AT, BE, DE, ES, FR, IE, IT, NL, PL, PT, UK,AT, BE, BG, CY, CZ, DE, DK, EL, ES, FR, HR, HU, IE, IT, LU, MT, NL, PL, PT, RO, SE, SI, SK, UK,nannannannannannannannannannanAT, BE, BG, CY, CZ, DE, DK, EE, EL, ES, FI, FR, HR, HU, IT, LT, LV, MT, PL, PT, RO, SE, SI, SK, UK,nannanAT, BE, BG, CY, CZ, DE, DK, EE, EL, ES, FI, FR, HR, HU, IE, IT, LT, LU, LV, MT, NL, PL, PT, RO, SE, SI, SK, UK,AT, BE, BG, DE, EL, ES, FR, HR, IT, LU, PT, SI,BE, BG, CY, CZ, EL, ES, FR, HR, HU, IT, LU, NL, PT, SI, UK,nannannanNL, PT,AT, BE, BG, CY, CZ, DE, DK, EL, ES, FR, HR, HU, IE, IT, LT, MT, NL, PL, PT, RO, SE, SI, SK, UK,AT, BE, BG, CY, CZ, DE, EL, ES, FR, HR, HU, IT, LU, NL, PL, PT, RO, SI, SK, UK,nanNL,nannannanAT, BE, BG, CY, CZ, DE, EL, ES, FR, HR, HU, IE, IT, LU, MT, NL, PL, PT, RO, SI, SK, UK,AT, BE, BG, CY, CZ, DE, EL, ES, FR, HR, HU, IE, IT, LU, MT, NL, PL, PT, RO, SI, SK, UK,nanBE, BG, CZ, DK, EL, ES, FI, FR, HR, IT, NL, PL, PT, RO, SE, SI, UK,BE, BG, CZ, DK, EL, ES, FI, FR, HR, IT, NL, PL, PT, RO, SE, SI, UK,nanAT, BE, BG, CZ, DE, EL, ES, FR, HR, HU, IT, LT, MT, PL, PT, RO, SI, SK, UK,AT, BE, CZ, DK, EL, ES, FR, HU, IT, NL, PL, PT, SE, SI,nannannannannanAT, BE, BG, CY, DE, EL, ES, FR, HU, IE, IT, PT, RO, SI, UK,BE, CZ, ES, FI, HU, IE, SE, SK, UK,BE, HU, NL, PT,nannannanAT, BE, BG, CY, CZ, DE, DK, EE, EL, ES, FI, FR, HR, HU, IE, IT, LT, LU, LV, NL, PL, PT, RO, SE, SI, SK, UK,AT, BE, BG, CY, CZ, DE, DK, EE, EL, ES, FI, FR, HR, HU, IE, IT, LT, LU, LV, NL, PL, PT, RO, SE, SI, SK, UK,AT, BE, BG, CZ, DE, DK, EE, EL, ES, FI, FR, HR, HU, IE, IT, LT, LU, LV, NL, PL, PT, RO, SE, SI, SK, UK,nannannannannannannanAT, BE, CY, CZ, DE, ES, FI, HR, HU, MT, NL, PL, PT, SE, SK, UK,nannanNL, PT, UK,nanBE, CY, EL, ES, FR, IT, MT, NL, PT,nannanBE, DK, EL, ES, FI, IT, NL, SE, UK,nannannannannanEL, NL,PT,nannanBE, FR, IE, IT, NL, UK,nanCZ, PL, SK,nanPT,nannannanDE,AT, CY, CZ, DE, EL, ES, HR, HU, IT, LU, MT, PT, RO, SI, SK,AT, BE, BG, CY, CZ, DE, DK, EE, EL, ES, FI, FR, HR, HU, IE, IT, LT, LU, LV, MT, NL, PL, PT, RO, SE, SI, SK, UK,nannannannanCZ, EL, FI, LV, NL, SE,CY, EL, ES, NL,EL,EL, ES,DE, FR, IT, PT,BE, CZ, DE, ES, FR, HU, IE, IT, NL, PL, PT, RO, SI, UK,HU,SE,EL, ES, FR,IT,nannannanCY, ES, FR, IT, PT,BE, CY, CZ, DE, EL, ES, FR, HR, HU, IT, LU, NL, PL, PT, RO, SI,CY, DE, EL, ES, FR, IT, NL, PT,nanBE, DK, EE, ES, IE, IT, PL, PT, SK, UK,nanSE,AT, BE, CY, CZ, DE, EL, ES, FR, IE, IT, LU, NL, PL, PT, RO, SK, UK,nannannannannanAT, BE, BG, CY, CZ, DE, EL, ES, FI, FR, HR, HU, IE, IT, LU, LV, MT, NL, PL, PT, RO, SE, SI, SK, UK,AT, BE, BG, CY, CZ, DE, EL, ES, FI, FR, HR, HU, IE, IT, LU, LV, MT, NL, PL, PT, RO, SE, SI, SK, UK,AT,BE, NL,ES, HU, IT, PT,nanBE, CZ, DE, DK, EL, ES, FI, FR, HR, HU, IE, IT, LT, NL, PL, RO, SE, SK, UK,nannannanBE, BG, CZ, DE, DK, EE, EL, ES, FI, FR, HR, HU, IE, IT, LT, LU, LV, MT, NL, PL, PT, RO, SE, SI, SK, UK,nanBE, BG, CZ, DE, EE, EL, ES, FI, FR, HU, IE, IT, LT, LU, LV, MT, NL, PL, PT, RO, SE, SI, SK, UK,BE, BG, CY, CZ, DE, EE, EL, ES, FI, FR, HR, HU, IE, IT, LT, LU, LV, NL, PL, PT, RO, SE, SI, SK,nanCY, EL, ES, FI, PT, UK,nannanAT, BE, BG, CY, CZ, DE, EL, ES, FR, HU, IT, LU, MT, NL, PT, RO, SI,nannanDE, DK, NL, SE, UK,nannannannanES,nannannannannannanBE, BG, CY, CZ, EE, EL, FR, HU, PL, PT, SK, UK,AT, BE, BG, CZ, DE, ES, FR, HR, HU, LU, PL, RO, SI,nanAT, BE, CY, CZ, EL, FR, HR, HU, IT, MT, PL, PT, RO, SI, SK,AT, BE, BG, CY, CZ, DE, EL, ES, FR, HR, HU, IE, IT, LV, MT, NL, PL, PT, RO, SI, UK,nanFR,\n"
     ]
    }
   ],
   "source": [
    "print(total_string)"
   ]
  },
  {
   "cell_type": "code",
   "execution_count": 89,
   "id": "9d2299b2",
   "metadata": {},
   "outputs": [],
   "source": [
    "countries_list=['AT','BE','BG','CY','CZ','DE','DK','EE','ES','FI','FR','HR','HU','IE','IT','LT','LU','LV','MT','NL','PT','RO','SE','SI','SK']"
   ]
  },
  {
   "cell_type": "code",
   "execution_count": 90,
   "id": "d2abf240",
   "metadata": {},
   "outputs": [
    {
     "name": "stdout",
     "output_type": "stream",
     "text": [
      "['AT', 'BE', 'BG', 'CY', 'CZ', 'DE', 'DK', 'EE', 'ES', 'FI', 'FR', 'HR', 'HU', 'IE', 'IT', 'LT', 'LU', 'LV', 'MT', 'NL', 'PT', 'RO', 'SE', 'SI', 'SK']\n"
     ]
    }
   ],
   "source": [
    "print(countries_list)"
   ]
  },
  {
   "cell_type": "code",
   "execution_count": 91,
   "id": "268bb8f5",
   "metadata": {},
   "outputs": [],
   "source": [
    "#Loop through this list of countries and create a list of lists of pairs of country/numberofauthorisations, by counting\n",
    "#the number of times the country's abbreviation appears in the total_string list\n",
    "country_numberofauthorisations=[]\n",
    "for i in range(len(countries_list)):\n",
    "    country_numberofauthorisations.append([countries_list[i],total_string.count(countries_list[i])])"
   ]
  },
  {
   "cell_type": "code",
   "execution_count": 92,
   "id": "11771856",
   "metadata": {},
   "outputs": [
    {
     "name": "stdout",
     "output_type": "stream",
     "text": [
      "[['AT', 287], ['BE', 362], ['BG', 274], ['CY', 263], ['CZ', 314], ['DE', 310], ['DK', 169], ['EE', 166], ['ES', 392], ['FI', 193], ['FR', 367], ['HR', 247], ['HU', 322], ['IE', 241], ['IT', 385], ['LT', 171], ['LU', 244], ['LV', 165], ['MT', 144], ['NL', 333], ['PT', 345], ['RO', 279], ['SE', 218], ['SI', 248], ['SK', 261]]\n"
     ]
    }
   ],
   "source": [
    "print(country_numberofauthorisations)"
   ]
  },
  {
   "cell_type": "code",
   "execution_count": 93,
   "id": "b08b02fa",
   "metadata": {},
   "outputs": [
    {
     "name": "stdout",
     "output_type": "stream",
     "text": [
      "Country  Number of Authorisations\n",
      "     ES                       392\n",
      "     IT                       385\n",
      "     FR                       367\n",
      "     BE                       362\n",
      "     PT                       345\n",
      "     NL                       333\n",
      "     HU                       322\n",
      "     CZ                       314\n",
      "     DE                       310\n",
      "     AT                       287\n",
      "     RO                       279\n",
      "     BG                       274\n",
      "     CY                       263\n",
      "     SK                       261\n",
      "     SI                       248\n",
      "     HR                       247\n",
      "     LU                       244\n",
      "     IE                       241\n",
      "     SE                       218\n",
      "     FI                       193\n",
      "     LT                       171\n",
      "     DK                       169\n",
      "     EE                       166\n",
      "     LV                       165\n",
      "     MT                       144\n"
     ]
    },
    {
     "data": {
      "image/png": "[encoded data removed]",
      "text/plain": [
       "<Figure size 432x288 with 1 Axes>"
      ]
     },
     "metadata": {
      "needs_background": "light"
     },
     "output_type": "display_data"
    }
   ],
   "source": [
    "countries_number_authorisations_df = pd.DataFrame(country_numberofauthorisations, columns = ['Country', 'Number of Authorisations'])\n",
    "# Sort these in descending order, highest no. of authorisations first\n",
    "countries_number_authorisations_df.sort_values(by=['Number of Authorisations'], inplace=True, ascending=False)\n",
    "# Print this final dataframe.\n",
    "print(countries_number_authorisations_df.to_string(index=False))\n",
    "# Use matplotlib to plot a bar chart demonstrate visually which countries have authorised the use of most pesticides\n",
    "countries_number_authorisations_df.plot(x ='Country', y='Number of Authorisations', kind = 'bar')\n",
    "plt.show()"
   ]
  },
  {
   "cell_type": "code",
   "execution_count": 94,
   "id": "fa76a3fa",
   "metadata": {},
   "outputs": [
    {
     "data": {
      "text/plain": [
       "<AxesSubplot:xlabel='Country', ylabel='Number of Authorisations'>"
      ]
     },
     "execution_count": 94,
     "metadata": {},
     "output_type": "execute_result"
    },
    {
     "data": {
      "image/png": "[encoded data removed]",
      "text/plain": [
       "<Figure size 432x288 with 1 Axes>"
      ]
     },
     "metadata": {
      "needs_background": "light"
     },
     "output_type": "display_data"
    }
   ],
   "source": [
    "sns.barplot(x='Country', y ='Number of Authorisations', data=countries_number_authorisations_df,)"
   ]
  },
  {
   "cell_type": "code",
   "execution_count": 95,
   "id": "bf02db2c",
   "metadata": {},
   "outputs": [
    {
     "data": {
      "text/plain": [
       "<AxesSubplot:xlabel='Number of Authorisations', ylabel='Country'>"
      ]
     },
     "execution_count": 95,
     "metadata": {},
     "output_type": "execute_result"
    },
    {
     "data": {
      "image/png": "[encoded data removed]",
      "text/plain": [
       "<Figure size 432x288 with 1 Axes>"
      ]
     },
     "metadata": {
      "needs_background": "light"
     },
     "output_type": "display_data"
    }
   ],
   "source": [
    "sns.barplot(y='Country', x ='Number of Authorisations', data=countries_number_authorisations_df,)"
   ]
  },
  {
   "cell_type": "code",
   "execution_count": 115,
   "id": "1c9debd7",
   "metadata": {},
   "outputs": [
    {
     "data": {
      "text/html": [
       "<div>\n",
       "<style scoped>\n",
       "    .dataframe tbody tr th:only-of-type {\n",
       "        vertical-align: middle;\n",
       "    }\n",
       "\n",
       "    .dataframe tbody tr th {\n",
       "        vertical-align: top;\n",
       "    }\n",
       "\n",
       "    .dataframe thead th {\n",
       "        text-align: right;\n",
       "    }\n",
       "</style>\n",
       "<table border=\"1\" class=\"dataframe\">\n",
       "  <thead>\n",
       "    <tr style=\"text-align: right;\">\n",
       "      <th></th>\n",
       "      <th>Number of Authorisations</th>\n",
       "    </tr>\n",
       "  </thead>\n",
       "  <tbody>\n",
       "    <tr>\n",
       "      <th>count</th>\n",
       "      <td>25.000000</td>\n",
       "    </tr>\n",
       "    <tr>\n",
       "      <th>mean</th>\n",
       "      <td>268.000000</td>\n",
       "    </tr>\n",
       "    <tr>\n",
       "      <th>std</th>\n",
       "      <td>73.912674</td>\n",
       "    </tr>\n",
       "    <tr>\n",
       "      <th>min</th>\n",
       "      <td>144.000000</td>\n",
       "    </tr>\n",
       "    <tr>\n",
       "      <th>25%</th>\n",
       "      <td>218.000000</td>\n",
       "    </tr>\n",
       "    <tr>\n",
       "      <th>50%</th>\n",
       "      <td>263.000000</td>\n",
       "    </tr>\n",
       "    <tr>\n",
       "      <th>75%</th>\n",
       "      <td>322.000000</td>\n",
       "    </tr>\n",
       "    <tr>\n",
       "      <th>max</th>\n",
       "      <td>392.000000</td>\n",
       "    </tr>\n",
       "  </tbody>\n",
       "</table>\n",
       "</div>"
      ],
      "text/plain": [
       "       Number of Authorisations\n",
       "count                 25.000000\n",
       "mean                 268.000000\n",
       "std                   73.912674\n",
       "min                  144.000000\n",
       "25%                  218.000000\n",
       "50%                  263.000000\n",
       "75%                  322.000000\n",
       "max                  392.000000"
      ]
     },
     "execution_count": 115,
     "metadata": {},
     "output_type": "execute_result"
    }
   ],
   "source": [
    "countries_number_authorisations_df.describe()"
   ]
  },
  {
   "cell_type": "code",
   "execution_count": 113,
   "id": "5570f818",
   "metadata": {},
   "outputs": [
    {
     "data": {
      "text/plain": [
       "Country                     object\n",
       "Number of Authorisations     int64\n",
       "dtype: object"
      ]
     },
     "execution_count": 113,
     "metadata": {},
     "output_type": "execute_result"
    }
   ],
   "source": [
    "countries_number_authorisations_df.dtypes"
   ]
  },
  {
   "cell_type": "code",
   "execution_count": null,
   "id": "6edafd41",
   "metadata": {},
   "outputs": [],
   "source": []
  }
 ],
 "metadata": {
  "kernelspec": {
   "display_name": "Python 3",
   "language": "python",
   "name": "python3"
  },
  "language_info": {
   "codemirror_mode": {
    "name": "ipython",
    "version": 3
   },
   "file_extension": ".py",
   "mimetype": "text/x-python",
   "name": "python",
   "nbconvert_exporter": "python",
   "pygments_lexer": "ipython3",
   "version": "3.8.8"
  }
 },
 "nbformat": 4,
 "nbformat_minor": 5
}
