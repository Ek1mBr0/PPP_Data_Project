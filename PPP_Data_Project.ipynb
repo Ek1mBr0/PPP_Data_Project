{
 "cells": [
  {
   "cell_type": "code",
   "execution_count": 1,
   "id": "02abd291",
   "metadata": {},
   "outputs": [],
   "source": [
    "import numpy as np"
   ]
  },
  {
   "cell_type": "code",
   "execution_count": 2,
   "id": "b260cab8",
   "metadata": {},
   "outputs": [],
   "source": [
    "import pandas as pd"
   ]
  },
  {
   "cell_type": "code",
   "execution_count": 3,
   "id": "f2ca6379",
   "metadata": {},
   "outputs": [],
   "source": [
    "from pandas import ExcelWriter"
   ]
  },
  {
   "cell_type": "code",
   "execution_count": 4,
   "id": "b8deffd8",
   "metadata": {},
   "outputs": [],
   "source": [
    "from pandas import ExcelFile"
   ]
  },
  {
   "cell_type": "code",
   "execution_count": 5,
   "id": "eda881f5",
   "metadata": {},
   "outputs": [],
   "source": [
    "import matplotlib.pyplot as plt"
   ]
  },
  {
   "cell_type": "code",
   "execution_count": 6,
   "id": "ad3293f7",
   "metadata": {},
   "outputs": [],
   "source": [
    "import seaborn as sns"
   ]
  },
  {
   "cell_type": "code",
   "execution_count": 12,
   "id": "7b9f0ba5",
   "metadata": {},
   "outputs": [],
   "source": [
    "PPP_Data = pd.read_csv(r'C:\\Users\\Mike\\Desktop\\PPP_Data_Project\\PPP_Data.csv')"
   ]
  },
  {
   "cell_type": "code",
   "execution_count": 14,
   "id": "d27d9701",
   "metadata": {},
   "outputs": [
    {
     "name": "stdout",
     "output_type": "stream",
     "text": [
      "                              Company Name     Product Name  PCS No  \\\n",
      "0      Adama Agricultural Solutions UK Ltd    Afalon Liquid    2839   \n",
      "1      Adama Agricultural Solutions UK Ltd    Afalon Liquid    2839   \n",
      "2      Adama Agricultural Solutions UK Ltd    Afalon Liquid    4452   \n",
      "3      Adama Agricultural Solutions UK Ltd    Afalon Liquid    2839   \n",
      "4      Adama Agricultural Solutions UK Ltd    Afalon Liquid    2839   \n",
      "...                                    ...              ...     ...   \n",
      "20769             Whelehan Crop Protection  Whelehan Shield    4178   \n",
      "20770             Whelehan Crop Protection  Whelehan Shield    4178   \n",
      "20771             Whelehan Crop Protection  Whelehan Shield    4178   \n",
      "20772              Xeda International S.A.           Biox-M    5431   \n",
      "20773              Xeda International S.A.           Biox-M    5431   \n",
      "\n",
      "                   CropCategory          Function                      Crop  \\\n",
      "0                        Pulses         Herbicide             Beans - field   \n",
      "1      Root and Tuber Vegetable         Herbicide                   Carrots   \n",
      "2               Stem Vegetables         Herbicide            Celery - field   \n",
      "3               Stem Vegetables         Herbicide            Celery - field   \n",
      "4               Stem Vegetables         Herbicide                    Fennel   \n",
      "...                         ...               ...                       ...   \n",
      "20769                   Cereals         Herbicide            Wheat - spring   \n",
      "20770                   Cereals         Herbicide            Wheat - winter   \n",
      "20771             Miscellaneous         Herbicide                    Willow   \n",
      "20772                  Potatoes  Growth Regulator  Potatoes - stored - ware   \n",
      "20773                  Potatoes  Growth Regulator  Potatoes - stored - ware   \n",
      "\n",
      "                         Methodof Applic MaxIndividualDose     MaxTotalDose  \\\n",
      "0      Tractor Mounted / Trailed Sprayer         1.35 l/ha        1.35 l/ha   \n",
      "1      Tractor Mounted / Trailed Sprayer          2.1 l/ha         2.1 l/ha   \n",
      "2      Tractor Mounted / Trailed Sprayer         1.35 l/ha        1.35 l/ha   \n",
      "3      Tractor Mounted / Trailed Sprayer         1.35 l/ha        1.35 l/ha   \n",
      "4      Tractor Mounted / Trailed Sprayer         1.35 l/ha        1.35 l/ha   \n",
      "...                                  ...               ...              ...   \n",
      "20769  Tractor Mounted / Trailed Sprayer          0.7 l/ha         0.7 l/ha   \n",
      "20770  Tractor Mounted / Trailed Sprayer          0.7 l/ha         0.7 l/ha   \n",
      "20771  Tractor Mounted / Trailed Sprayer          2.0 l/ha         2.0 l/ha   \n",
      "20772                  Fogging Equipment    90ml per tonne  360ml per tonne   \n",
      "20773                         Applicator     2ml/tonne/day  360ml per tonne   \n",
      "\n",
      "      MaxNoApplications                              Timing of Application  \\\n",
      "0                     -             After sowing but before crop emergence   \n",
      "1          1 or 2 split  Apply pre or post crop emergence. Max ind. dos...   \n",
      "2                     -                                                NaN   \n",
      "3                     -                                                NaN   \n",
      "4                     -                                                NaN   \n",
      "...                 ...                                                ...   \n",
      "20769                 -                                                NaN   \n",
      "20770                 -                                                NaN   \n",
      "20771               NaN                                                NaN   \n",
      "20772                10                                                NaN   \n",
      "20773                 -                                                NaN   \n",
      "\n",
      "      Latest Time of Application      PHI  \\\n",
      "0          Pre-emergence of crop      NaN   \n",
      "1            90 days pre harvest  90 days   \n",
      "2         60 days before harvest  60 days   \n",
      "3         60 days before harvest  60 days   \n",
      "4         60 days before harvest  60 days   \n",
      "...                          ...      ...   \n",
      "20769               Before GS 33      NaN   \n",
      "20770               Before GS 33      NaN   \n",
      "20771                        NaN      NaN   \n",
      "20772                          -      NaN   \n",
      "20773                          -      NaN   \n",
      "\n",
      "                                               Comments      Substance  \\\n",
      "0                                                   NaN        Linuron   \n",
      "1                                                   NaN        Linuron   \n",
      "2                                                   NaN        Linuron   \n",
      "3                                                   NaN        Linuron   \n",
      "4                                                   NaN        Linuron   \n",
      "...                                                 ...            ...   \n",
      "20769                                               NaN     Clopyralid   \n",
      "20770                                               NaN     Clopyralid   \n",
      "20771                                               NaN     Clopyralid   \n",
      "20772                                               NaN  Spearmint oil   \n",
      "20773  Cold evaporation method using Xedavap applicator  Spearmint oil   \n",
      "\n",
      "        Content Registration revoked  \n",
      "0       450 g/l            03-Jun-17  \n",
      "1       450 g/l            03-Jun-17  \n",
      "2       450 g/l            15-Sep-11  \n",
      "3       450 g/l            03-Jun-17  \n",
      "4       450 g/l            03-Jun-17  \n",
      "...         ...                  ...  \n",
      "20769   100 g/l            19-May-12  \n",
      "20770   100 g/l            19-May-12  \n",
      "20771   100 g/l            19-May-12  \n",
      "20772  100% w/w                  NaN  \n",
      "20773  100% w/w                  NaN  \n",
      "\n",
      "[20774 rows x 17 columns]\n"
     ]
    }
   ],
   "source": [
    "print(PPP_Data)"
   ]
  },
  {
   "cell_type": "code",
   "execution_count": null,
   "id": "63b7eded",
   "metadata": {},
   "outputs": [],
   "source": []
  }
 ],
 "metadata": {
  "kernelspec": {
   "display_name": "Python 3",
   "language": "python",
   "name": "python3"
  },
  "language_info": {
   "codemirror_mode": {
    "name": "ipython",
    "version": 3
   },
   "file_extension": ".py",
   "mimetype": "text/x-python",
   "name": "python",
   "nbconvert_exporter": "python",
   "pygments_lexer": "ipython3",
   "version": "3.8.8"
  }
 },
 "nbformat": 4,
 "nbformat_minor": 5
}
